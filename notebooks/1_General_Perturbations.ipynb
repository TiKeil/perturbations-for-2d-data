{
 "cells": [
  {
   "cell_type": "markdown",
   "metadata": {},
   "source": [
    "# Perturbations of a Coefficient\n",
    "\n",
    "Every diffusion coefficient can be subjected to some perturbation. This script presents perturbations that we investigate in the tests. It also shows the utilization of the 'buildcoef2d' class and its benefits in terms of perturbations. First, we show the original coefficient, determine the elements we want to perturb and simulate each perturbation. For further explanations of the 'buildcoef2d' perturbation functions, we refer to the thesis."
   ]
  },
  {
   "cell_type": "code",
   "execution_count": 1,
   "metadata": {},
   "outputs": [],
   "source": [
    "import os\n",
    "import sys\n",
    "import numpy as np\n",
    "\n",
    "import matplotlib.pyplot as plt\n",
    "from perturbations_for_2d_data.visualize import drawCoefficient, ExtradrawCoefficient\n",
    "\n",
    "from perturbations_for_2d_data import buildcoef2d"
   ]
  },
  {
   "cell_type": "code",
   "execution_count": 2,
   "metadata": {},
   "outputs": [
    {
     "data": {
      "image/png": "[encoded data removed]",
      "text/plain": [
       "<Figure size 432x288 with 1 Axes>"
      ]
     },
     "metadata": {},
     "output_type": "display_data"
    }
   ],
   "source": [
    "bg = 0.05     #background\n",
    "val = 1       #values\n",
    "\n",
    "NWorldFine = np.array([42, 42])\n",
    "\n",
    "CoefClass = buildcoef2d.Coefficient2d(NWorldFine,\n",
    "                bg                = bg,       # background\n",
    "                val               = val,      # values\n",
    "                length            = 2,        # length\n",
    "                thick             = 2,        # thickness\n",
    "                space             = 2,        # space between values\n",
    "                probfactor        = 1,        # probability of an value\n",
    "                right             = 1,        # shape 1\n",
    "                down              = 0,        # shape 2\n",
    "                diagr1            = 0,        # shape 3\n",
    "                diagr2            = 0,        # shape 4\n",
    "                diagl1            = 0,        # shape 5\n",
    "                diagl2            = 0,        # shape 6\n",
    "                LenSwitch         = None,     # various length\n",
    "                thickSwitch       = None,     # various thickness\n",
    "                ChannelHorizontal = None,     # horizontal Channels\n",
    "                ChannelVertical   = None,     # vertical Channels\n",
    "                BoundarySpace     = True      # additional space on the boundary\n",
    "                )\n",
    "\n",
    "A = CoefClass.BuildCoefficient()              # coefficient in a numpy array\n",
    "A = A.flatten()\n",
    "\n",
    "plt.figure(\"Original\")\n",
    "drawCoefficient(NWorldFine, A)\n",
    "plt.title(\"Original\")\n",
    "plt.show()\n",
    "\n",
    "# What entries will be perturbed\n",
    "numbers = [13,20,27,44,73]  "
   ]
  },
  {
   "cell_type": "markdown",
   "metadata": {},
   "source": [
    "## Change in value"
   ]
  },
  {
   "cell_type": "code",
   "execution_count": 3,
   "metadata": {},
   "outputs": [
    {
     "data": {
      "image/png": "[encoded data removed]",
      "text/plain": [
       "<Figure size 432x288 with 1 Axes>"
      ]
     },
     "metadata": {},
     "output_type": "display_data"
    }
   ],
   "source": [
    "B = CoefClass.SpecificValueChange( Number           = numbers,  \n",
    "                                   ratio            = -0.4,\n",
    "                                   randomvalue      = None,\n",
    "                                   negative         = None,\n",
    "                                   ShapeRestriction = True,\n",
    "                                   ShapeWave        = None,\n",
    "                                   probfactor       = 1,\n",
    "                                   Original         = True)\n",
    "\n",
    "B = B.flatten()\n",
    "plt.figure(\"Change in value\")\n",
    "drawCoefficient(NWorldFine, B)\n",
    "plt.title(\"Change in value\")\n",
    "plt.show()"
   ]
  },
  {
   "cell_type": "markdown",
   "metadata": {},
   "source": [
    "## Disappearance"
   ]
  },
  {
   "cell_type": "code",
   "execution_count": 4,
   "metadata": {},
   "outputs": [
    {
     "data": {
      "image/png": "[encoded data removed]",
      "text/plain": [
       "<Figure size 432x288 with 1 Axes>"
      ]
     },
     "metadata": {},
     "output_type": "display_data"
    }
   ],
   "source": [
    "C = CoefClass.SpecificVanish(      Number           = numbers,\n",
    "                                   PartlyVanish     = None,\n",
    "                                   probfactor       = 1,\n",
    "                                   Original          = True)\n",
    "\n",
    "C = C.flatten()\n",
    "plt.figure(\"Disappearance\")\n",
    "drawCoefficient(NWorldFine, C)\n",
    "plt.title(\"Disappearance\")\n",
    "plt.show()"
   ]
  },
  {
   "cell_type": "markdown",
   "metadata": {},
   "source": [
    "## Shift"
   ]
  },
  {
   "cell_type": "code",
   "execution_count": 5,
   "metadata": {},
   "outputs": [
    {
     "data": {
      "image/png": "[encoded data removed]",
      "text/plain": [
       "<Figure size 432x288 with 1 Axes>"
      ]
     },
     "metadata": {},
     "output_type": "display_data"
    }
   ],
   "source": [
    "D = CoefClass.SpecificMove(        Number           = numbers,\n",
    "                                   steps            = 1,\n",
    "                                   randomstep       = None,\n",
    "                                   randomDirection  = None,\n",
    "                                   Right            = 1,\n",
    "                                   BottomRight      = 1,\n",
    "                                   Bottom           = 1,\n",
    "                                   BottomLeft       = 1,\n",
    "                                   Left             = 1,\n",
    "                                   TopLeft          = 1,\n",
    "                                   Top              = 1,\n",
    "                                   TopRight         = 1,\n",
    "                                   Original         = True)\n",
    "\n",
    "D = D.flatten()\n",
    "plt.figure(\"Shift\")\n",
    "drawCoefficient(NWorldFine, D)\n",
    "plt.title(\"Shift\")\n",
    "plt.show()"
   ]
  },
  {
   "cell_type": "markdown",
   "metadata": {},
   "source": [
    "# Summary"
   ]
  },
  {
   "cell_type": "code",
   "execution_count": 6,
   "metadata": {},
   "outputs": [
    {
     "data": {
      "image/png": "[encoded data removed]",
      "text/plain": [
       "<Figure size 432x288 with 4 Axes>"
      ]
     },
     "metadata": {},
     "output_type": "display_data"
    }
   ],
   "source": [
    "plt.figure('Perturbatons')\n",
    "ExtradrawCoefficient(NWorldFine, A, B, C, D)\n",
    "\n",
    "plt.show()"
   ]
  }
 ],
 "metadata": {
  "kernelspec": {
   "display_name": "Python 3",
   "language": "python",
   "name": "python3"
  },
  "language_info": {
   "codemirror_mode": {
    "name": "ipython",
    "version": 3
   },
   "file_extension": ".py",
   "mimetype": "text/x-python",
   "name": "python",
   "nbconvert_exporter": "python",
   "pygments_lexer": "ipython3",
   "version": "3.7.5"
  }
 },
 "nbformat": 4,
 "nbformat_minor": 2
}
